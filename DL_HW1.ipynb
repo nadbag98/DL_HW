{
  "nbformat": 4,
  "nbformat_minor": 0,
  "metadata": {
    "colab": {
      "name": "DL_HW1.ipynb",
      "provenance": []
    },
    "kernelspec": {
      "name": "python3",
      "display_name": "Python 3"
    },
    "language_info": {
      "name": "python"
    },
    "accelerator": "GPU"
  },
  "cells": [
    {
      "cell_type": "code",
      "execution_count": 57,
      "metadata": {
        "id": "aUv_hy-Zi68T"
      },
      "outputs": [],
      "source": [
        "import sklearn\n",
        "import torch\n",
        "import torchvision\n",
        "import torch.nn as nn\n",
        "import torch.nn.functional as F\n",
        "import matplotlib.pyplot as plt\n",
        "import numpy as np\n",
        "from sklearn.svm import SVC\n"
      ]
    },
    {
      "cell_type": "code",
      "source": [
        "trainset = torchvision.datasets.CIFAR10(root='./data', train=True,\n",
        "                                        download=True)\n",
        "testset = torchvision.datasets.CIFAR10(root='./data', train=False,\n",
        "                                       download=True)"
      ],
      "metadata": {
        "colab": {
          "base_uri": "https://localhost:8080/"
        },
        "id": "yo2f8u6rjdy-",
        "outputId": "676460bb-0977-4fc8-e163-45f993f7da50"
      },
      "execution_count": 12,
      "outputs": [
        {
          "output_type": "stream",
          "name": "stdout",
          "text": [
            "Files already downloaded and verified\n",
            "Files already downloaded and verified\n"
          ]
        }
      ]
    },
    {
      "cell_type": "code",
      "source": [
        "train_data = trainset.data / 255\n",
        "train_labels = np.array(trainset.targets)\n",
        "test_data = testset.data / 255\n",
        "test_labels = np.array(testset.targets)\n",
        "\n",
        "train_indices = np.random.choice(np.arange(50000), size=5000, replace=False)\n",
        "test_indices = np.random.choice(np.arange(10000), size=1000, replace=False)"
      ],
      "metadata": {
        "id": "mTW7V6IekY2H"
      },
      "execution_count": 30,
      "outputs": []
    },
    {
      "cell_type": "code",
      "source": [
        "train_data = train_data[train_indices]\n",
        "train_labels = train_labels[train_indices]\n",
        "test_data = test_data[test_indices]\n",
        "test_labels = test_labels[test_indices]"
      ],
      "metadata": {
        "id": "jZQVtPMRqh_C"
      },
      "execution_count": 31,
      "outputs": []
    },
    {
      "cell_type": "code",
      "source": [
        "# part 1\n",
        "lin_SVM = SVC(kernel='linear')\n",
        "lin_SVM.fit(train_data.reshape(5000, -1), train_labels)"
      ],
      "metadata": {
        "colab": {
          "base_uri": "https://localhost:8080/"
        },
        "id": "8Pnhn7G3qo-K",
        "outputId": "f0d6ab01-2fb4-4442-9b7c-b8b41c2776b3"
      },
      "execution_count": 38,
      "outputs": [
        {
          "output_type": "execute_result",
          "data": {
            "text/plain": [
              "SVC(kernel='linear')"
            ]
          },
          "metadata": {},
          "execution_count": 38
        }
      ]
    },
    {
      "cell_type": "code",
      "source": [
        "lin_pred_labels_test = lin_SVM.predict(test_data.reshape(1000, -1))"
      ],
      "metadata": {
        "id": "_myOmrHRzWI0"
      },
      "execution_count": 50,
      "outputs": []
    },
    {
      "cell_type": "code",
      "source": [
        "lin_mistakes_test = np.array([int(lin_pred_labels_test[i] == test_labels[i]) for i in range(1000)])\n",
        "lin_acc_test = np.sum(lin_mistakes_test) / 1000\n",
        "print(f\"Test accuracy of linear SVM: {lin_acc_test}\")"
      ],
      "metadata": {
        "colab": {
          "base_uri": "https://localhost:8080/"
        },
        "id": "2m01cHvy1AY2",
        "outputId": "59871a16-e76e-4a29-d1c1-dda65452c241"
      },
      "execution_count": 51,
      "outputs": [
        {
          "output_type": "stream",
          "name": "stdout",
          "text": [
            "Test accuracy of linear SVM: 0.306\n"
          ]
        }
      ]
    },
    {
      "cell_type": "code",
      "source": [
        "lin_pred_labels_train = lin_SVM.predict(train_data.reshape(5000, -1))\n",
        "lin_mistakes_train = np.array([int(lin_pred_labels_train[i] == train_labels[i]) for i in range(5000)])\n",
        "lin_acc_train = np.sum(lin_mistakes_train) / 5000\n",
        "print(f\"Train accuracy of linear SVM: {lin_acc_train}\")"
      ],
      "metadata": {
        "colab": {
          "base_uri": "https://localhost:8080/"
        },
        "id": "8_GWRjyq2Mia",
        "outputId": "040f018f-eed9-4b01-8a56-3d399743d573"
      },
      "execution_count": 52,
      "outputs": [
        {
          "output_type": "stream",
          "name": "stdout",
          "text": [
            "Train accuracy of linear SVM: 0.9876\n"
          ]
        }
      ]
    },
    {
      "cell_type": "code",
      "source": [
        "RBF_SVM = SVC(kernel='rbf')\n",
        "RBF_SVM.fit(train_data.reshape(5000, -1), train_labels)"
      ],
      "metadata": {
        "colab": {
          "base_uri": "https://localhost:8080/"
        },
        "id": "uMPoOFw23BH0",
        "outputId": "b5a59157-e394-4252-e84f-4912f2cf7b7d"
      },
      "execution_count": 53,
      "outputs": [
        {
          "output_type": "execute_result",
          "data": {
            "text/plain": [
              "SVC()"
            ]
          },
          "metadata": {},
          "execution_count": 53
        }
      ]
    },
    {
      "cell_type": "code",
      "source": [
        "rbf_pred_labels_test = RBF_SVM.predict(test_data.reshape(1000, -1))\n",
        "rbf_mistakes_test = np.array([int(rbf_pred_labels_test[i] == test_labels[i]) for i in range(1000)])\n",
        "rbf_acc_test = np.sum(rbf_mistakes_test) / 1000\n",
        "print(f\"Test accuracy of RBF SVM: {rbf_acc_test}\")"
      ],
      "metadata": {
        "colab": {
          "base_uri": "https://localhost:8080/"
        },
        "id": "LiuvC0uR3KSX",
        "outputId": "7102bd49-089e-479c-d4de-712bef241777"
      },
      "execution_count": 55,
      "outputs": [
        {
          "output_type": "stream",
          "name": "stdout",
          "text": [
            "Test accuracy of RBF SVM: 0.441\n"
          ]
        }
      ]
    },
    {
      "cell_type": "code",
      "source": [
        "rbf_pred_labels_train = RBF_SVM.predict(train_data.reshape(5000, -1))\n",
        "rbf_mistakes_train = np.array([int(rbf_pred_labels_train[i] == train_labels[i]) for i in range(5000)])\n",
        "rbf_acc_train = np.sum(rbf_mistakes_train) / 5000\n",
        "print(f\"Train accuracy of RBF SVM: {rbf_acc_train}\")"
      ],
      "metadata": {
        "colab": {
          "base_uri": "https://localhost:8080/"
        },
        "id": "UcASkukW4Aw-",
        "outputId": "dc569094-f58f-41a9-a862-4b4c13b2e4eb"
      },
      "execution_count": 56,
      "outputs": [
        {
          "output_type": "stream",
          "name": "stdout",
          "text": [
            "Train accuracy of RBF SVM: 0.7158\n"
          ]
        }
      ]
    },
    {
      "cell_type": "code",
      "source": [
        "print(train_data.shape)"
      ],
      "metadata": {
        "colab": {
          "base_uri": "https://localhost:8080/"
        },
        "id": "wuudwecsBjmG",
        "outputId": "ef17c014-78f0-452a-ef80-9345e2f0f56b"
      },
      "execution_count": 58,
      "outputs": [
        {
          "output_type": "stream",
          "name": "stdout",
          "text": [
            "(5000, 32, 32, 3)\n"
          ]
        }
      ]
    },
    {
      "cell_type": "code",
      "source": [
        "model = nn.Sequential(\n",
        "    nn.Linear(32*32*3, 256),\n",
        "    nn.ReLU(),\n",
        "    nn.Linear(12, 10),\n",
        "    nn.ReLU(),\n",
        "    nn.Linear(10, 1),\n",
        "    nn.Sigmoid()\n",
        ")"
      ],
      "metadata": {
        "id": "hRU7obQi-jPx"
      },
      "execution_count": null,
      "outputs": []
    }
  ]
}